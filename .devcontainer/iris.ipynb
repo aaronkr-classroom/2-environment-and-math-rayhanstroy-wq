{
 "cells": [
  {
   "cell_type": "code",
   "execution_count": null,
   "id": "b3ddceb1",
   "metadata": {
    "vscode": {
     "languageId": "plaintext"
    }
   },
   "outputs": [],
   "source": [
    "# 1. Hello python\n",
    "name = \"Bormon\"\n",
    "goals = ['learn ML', 'learn DL','deeply learn DL']\n",
    "\n",
    "print (\"Hello,\",name,\"!\")\n",
    "print(\"Hello,\"+ name + \"!\")\n",
    "#for(1 starting points;2 end condition; 4 next step;){3excecuting code}\n",
    "print(\"-\",g)\n",
    "# if - elif -else\n",
    "if \"learn ML \" in goals:\n",
    "print(\"lets learn ML\")"
   ]
  }
 ],
 "metadata": {
  "language_info": {
   "name": "python"
  }
 },
 "nbformat": 4,
 "nbformat_minor": 5
}
